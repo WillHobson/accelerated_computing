{
 "cells": [
  {
   "cell_type": "code",
   "execution_count": 17,
   "id": "94b85a91",
   "metadata": {},
   "outputs": [],
   "source": [
    "import numpy as np\n",
    "import pandas as pd\n",
    "import matplotlib.pyplot as plt\n",
    "\n",
    "filename = 'LL-Output-Fri-20-Oct-2023-at-06-36-34PM.txt'\n",
    "\n",
    "dat = pd.read_csv(filename, skiprows=9, sep=' ')\n",
    "cols = [\"MCS\", \"Ratio\", \"Energy\", \"Order\"]\n",
    "\n",
    "to_be_dropped = [0,1,2,4,5,6,8,9,11,13]\n",
    "\n",
    "for i in range(len(to_be_dropped)):\n",
    "    dat = dat.drop(dat.columns[to_be_dropped[9-i]], axis=1)\n",
    "\n",
    "df=dat\n",
    "\n",
    "first_row = np.array(df.columns,dtype=float)\n",
    "first_row_pd = pd.DataFrame(first_row.reshape(1,-1))\n",
    "first_row_pd.columns=cols\n",
    "df.columns = cols\n",
    "df = pd.concat([first_row_pd,df], axis=0, ignore_index=True)\n",
    "\n",
    "df['MCS'] = df['MCS'].astype('int')\n",
    "df = df.set_index('MCS')"
   ]
  },
  {
   "cell_type": "code",
   "execution_count": null,
   "id": "3cf9159c",
   "metadata": {},
   "outputs": [],
   "source": []
  }
 ],
 "metadata": {
  "kernelspec": {
   "display_name": "Python 3 (ipykernel)",
   "language": "python",
   "name": "python3"
  },
  "language_info": {
   "codemirror_mode": {
    "name": "ipython",
    "version": 3
   },
   "file_extension": ".py",
   "mimetype": "text/x-python",
   "name": "python",
   "nbconvert_exporter": "python",
   "pygments_lexer": "ipython3",
   "version": "3.9.13"
  }
 },
 "nbformat": 4,
 "nbformat_minor": 5
}
